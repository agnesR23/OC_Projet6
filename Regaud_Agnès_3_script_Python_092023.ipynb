{
  "cells": [
    {
      "cell_type": "markdown",
      "source": [
        "# Projet 6 Openclassrooms\n",
        "## Regaud Agnès\n",
        "## Suite sujet : la mission N°3 est de tester la collecte de produits à base de “champagne” via l’API disponible\n",
        "## Notebook 3 : Test de collecte de produits via une API"
      ],
      "metadata": {
        "id": "YyCQ8Zg5lSE9"
      },
      "id": "YyCQ8Zg5lSE9"
    },
    {
      "cell_type": "code",
      "execution_count": 11,
      "id": "2c4af527",
      "metadata": {
        "id": "2c4af527"
      },
      "outputs": [],
      "source": [
        "import pandas as pd\n",
        "import numpy as np"
      ]
    },
    {
      "cell_type": "code",
      "execution_count": 12,
      "id": "7cf00fff",
      "metadata": {
        "colab": {
          "base_uri": "https://localhost:8080/"
        },
        "id": "7cf00fff",
        "outputId": "b7ce2a5c-755f-4b41-d8fe-5b3cd5febb5a"
      },
      "outputs": [
        {
          "output_type": "stream",
          "name": "stdout",
          "text": [
            "{\"text\":\"champagne\",\"parsed\":[{\"food\":{\"foodId\":\"food_a656mk2a5dmqb2adiamu6beihduu\",\"uri\":\"http://www.edamam.com/ontologies/edamam.owl#Food_table_white_wine\",\"label\":\"Champagne\",\"knownAs\":\"dry white wine\",\"nutrients\":{\"ENERC_KCAL\":82.0,\"PROCNT\":0.07,\"FAT\":0.0,\"CHOCDF\":2.6,\"FIBTG\":0.0},\"category\":\"Generic foods\",\"categoryLabel\":\"food\",\"image\":\"https://www.edamam.com/food-img/a71/a718cf3c52add522128929f1f324d2ab.jpg\"}}],\"hints\":[{\"food\":{\"foodId\":\"food_a656mk2a5dmqb2adiamu6beihduu\",\"uri\":\"http://www.edamam.com/ontologies/edamam.owl#Food_table_white_wine\",\"label\":\"Champagne\",\"knownAs\":\"dry white wine\",\"nutrients\":{\"ENERC_KCAL\":82.0,\"PROCNT\":0.07,\"FAT\":0.0,\"CHOCDF\":2.6,\"FIBTG\":0.0},\"category\":\"Generic foods\",\"categoryLabel\":\"food\",\"image\":\"https://www.edamam.com/food-img/a71/a718cf3c52add522128929f1f324d2ab.jpg\"},\"measures\":[{\"uri\":\"http://www.edamam.com/ontologies/edamam.owl#Measure_serving\",\"label\":\"Serving\",\"weight\":147.0},{\"uri\":\"http://www.edamam.com/ontologies/edamam.owl#Measure_unit\",\"label\":\"Whole\",\"weight\":750.0},{\"uri\":\"http://www.edamam.com/ontologies/edamam.owl#Measure_splash\",\"label\":\"Splash\",\"weight\":84.0},{\"uri\":\"http://www.edamam.com/ontologies/edamam.owl#Measure_gram\",\"label\":\"Gram\",\"weight\":1.0},{\"uri\":\"http://www.edamam.com/ontologies/edamam.owl#Measure_ounce\",\"label\":\"Ounce\",\"weight\":28.349523125},{\"uri\":\"http://www.edamam.com/ontologies/edamam.owl#Measure_pound\",\"label\":\"Pound\",\"weight\":453.59237},{\"uri\":\"http://www.edamam.com/ontologies/edamam.owl#Measure_kilogram\",\"label\":\"Kilogram\",\"weight\":1000.0},{\"uri\":\"http://www.edamam.com/ontologies/edamam.owl#Measure_cup\",\"label\":\"Cup\",\"weight\":235.2},{\"uri\":\"http://www.edamam.com/ontologies/edamam.owl#Measure_bottle\",\"label\":\"Bottle\",\"weight\":745.599200575638},{\"uri\":\"http://www.edamam.com/ontologies/edamam.owl#Measure_fluid_ounce\",\"label\":\"Fluid ounce\",\"weight\":29.4}]},{\"food\":{\"foodId\":\"food_b753ithamdb8psbt0w2k9aquo06c\",\"uri\":\"http://www.edamam.com/ontologies/edamam.owl#Food_FDCBR_744058\",\"label\":\"Champagne Vinaigrette, Champagne\",\"knownAs\":\"CHAMPAGNE VINAIGRETTE, CHAMPAGNE\",\"nutrients\":{\"ENERC_KCAL\":571.0,\"PROCNT\":0.0,\"FAT\":64.29000091552734,\"CHOCDF\":7.139999866485596},\"brand\":\"SoFine Food\",\"category\":\"Packaged foods\",\"categoryLabel\":\"food\",\"foodContentsLabel\":\"OLIVE OIL; BALSAMIC VINEGAR; CHAMPAGNE VINEGAR; GARLIC; DIJON MUSTARD; SEA SALT.\",\"servingSizes\":[{\"uri\":\"http://www.edamam.com/ontologies/edamam.owl#Measure_gram\",\"label\":\"Gram\",\"quantity\":14.0},{\"uri\":\"http://www.edamam.com/ontologies/edamam.owl#Measure_tablespoon\",\"label\":\"Tablespoon\",\"quantity\":1.0}]},\"measures\":[{\"uri\":\"http://www.edamam.com/ontologies/edamam.owl#Measure_serving\",\"label\":\"Serving\",\"weight\":14.0},{\"uri\":\"http://www.edamam.com/ontologies/edamam.owl#Measure_tablespoon\",\"label\":\"Tablespoon\",\"weight\":14.0},{\"uri\":\"http://www.edamam.com/ontologies/edamam.owl#Measure_gram\",\"label\":\"Gram\",\"weight\":1.0},{\"uri\":\"http://www.edamam.com/ontologies/edamam.owl#Measure_ounce\",\"label\":\"Ounce\",\"weight\":28.349523125},{\"uri\":\"http://www.edamam.com/ontologies/edamam.owl#Measure_pound\",\"label\":\"Pound\",\"weight\":453.59237},{\"uri\":\"http://www.edamam.com/ontologies/edamam.owl#Measure_kilogram\",\"label\":\"Kilogram\",\"weight\":1000.0}]},{\"food\":{\"foodId\":\"food_b3dyababjo54xobm6r8jzbghjgqe\",\"uri\":\"http://www.edamam.com/ontologies/edamam.owl#Food_FDCBR_1069751\",\"label\":\"Champagne Vinaigrette, Champagne\",\"knownAs\":\"CHAMPAGNE VINAIGRETTE, CHAMPAGNE\",\"nutrients\":{\"ENERC_KCAL\":333.0,\"PROCNT\":0.0,\"FAT\":36.66999816894531,\"CHOCDF\":6.670000076293945},\"brand\":\"Maple Grove Farms Of Vermont Inc.\",\"category\":\"Packaged foods\",\"categoryLabel\":\"food\",\"foodContentsLabel\":\"INGREDIENTS: WATER; CANOLA OIL; CHAMPAGNE VINEGAR; SUGAR; OLIVE OIL; SALT; DRIED GARLIC; DRED SHALLOTS; BLACK PEPPER; XANTHAN GUM; SPICE\",\"image\":\"https://www.edamam.com/food-img/d88/d88b64d97349ed062368972113124e35.jpg\",\"servingSizes\":[{\"uri\":\"http://www.edamam.com/ontologies/edamam.owl#Measure_tablespoon\",\"label\":\"Tablespoon\",\"quantity\":2.0},{\"uri\":\"http://www.edamam.com/ontologies/edamam.owl#Measure_milliliter\",\"label\":\"Milliliter\",\"quantity\":30.0}],\"servingsPerContainer\":12.000000000000002},\"measures\":[{\"uri\":\"http://www.edamam.com/ontologies/edamam.owl#Measure_serving\",\"label\":\"Serving\",\"weight\":29.573529562},{\"uri\":\"http://www.edamam.com/ontologies/edamam.owl#Measure_package\",\"label\":\"Package\",\"weight\":354.88235474400005},{\"uri\":\"http://www.edamam.com/ontologies/edamam.owl#Measure_gram\",\"label\":\"Gram\",\"weight\":1.0},{\"uri\":\"http://www.edamam.com/ontologies/edamam.owl#Measure_ounce\",\"label\":\"Ounce\",\"weight\":28.349523125},{\"uri\":\"http://www.edamam.com/ontologies/edamam.owl#Measure_pound\",\"label\":\"Pound\",\"weight\":453.59237},{\"uri\":\"http://www.edamam.com/ontologies/edamam.owl#Measure_kilogram\",\"label\":\"Kilogram\",\"weight\":1000.0},{\"uri\":\"http://www.edamam.com/ontologies/edamam.owl#Measure_tablespoon\",\"label\":\"Tablespoon\",\"weight\":14.786764781},{\"uri\":\"http://www.edamam.com/ontologies/edamam.owl#Measure_milliliter\",\"label\":\"Milliliter\",\"weight\":0.9857843187333334}]},{\"food\":{\"foodId\":\"food_a9e0ghsamvoc45bwa2ybsa3gken9\",\"uri\":\"http://www.edamam.com/ontologies/edamam.owl#Food_FDCBR_898926\",\"label\":\"Champagne Vinaigrette, Champagne\",\"knownAs\":\"CHAMPAGNE VINAIGRETTE, CHAMPAGNE\",\"nutrients\":{\"ENERC_KCAL\":500.0,\"PROCNT\":0.0,\"FAT\":50.0,\"CHOCDF\":6.670000076293945},\"brand\":\"T. Marzetti Company\",\"category\":\"Packaged foods\",\"categoryLabel\":\"food\",\"foodContentsLabel\":\"CANOLA AND SOYBEAN OIL; WHITE WINE (CONTAINS SULFITES); WATER; VINEGARS (CHAMPAGNE AND WHITE WINE); SUGAR; SALT; MUSTARD SEED; MONOSODIUM GLUTAMATE; GARLIC*; ONION*; SPICE; XANTHAN GUM; MOLASSES; CALCIUM DISODIUM EDTA ADDED TO PROTECT FLAVOR; CHIVES*; TAMARIND; NATURAL FLAVOR.\",\"servingSizes\":[{\"uri\":\"http://www.edamam.com/ontologies/edamam.owl#Measure_gram\",\"label\":\"Gram\",\"quantity\":30.0},{\"uri\":\"http://www.edamam.com/ontologies/edamam.owl#Measure_tablespoon\",\"label\":\"Tablespoon\",\"quantity\":2.0}]},\"measures\":[{\"uri\":\"http://www.edamam.com/ontologies/edamam.owl#Measure_serving\",\"label\":\"Serving\",\"weight\":30.0},{\"uri\":\"http://www.edamam.com/ontologies/edamam.owl#Measure_gram\",\"label\":\"Gram\",\"weight\":1.0},{\"uri\":\"http://www.edamam.com/ontologies/edamam.owl#Measure_ounce\",\"label\":\"Ounce\",\"weight\":28.349523125},{\"uri\":\"http://www.edamam.com/ontologies/edamam.owl#Measure_pound\",\"label\":\"Pound\",\"weight\":453.59237},{\"uri\":\"http://www.edamam.com/ontologies/edamam.owl#Measure_kilogram\",\"label\":\"Kilogram\",\"weight\":1000.0},{\"uri\":\"http://www.edamam.com/ontologies/edamam.owl#Measure_tablespoon\",\"label\":\"Tablespoon\",\"weight\":15.0}]},{\"food\":{\"foodId\":\"food_an4jjueaucpus2a3u1ni8auhe7q9\",\"uri\":\"http://www.edamam.com/ontologies/edamam.owl#Food_FDCBR_898932\",\"label\":\"Champagne Vinaigrette, Champagne\",\"knownAs\":\"CHAMPAGNE VINAIGRETTE, CHAMPAGNE\",\"nutrients\":{\"ENERC_KCAL\":194.0,\"PROCNT\":0.0,\"FAT\":16.1299991607666,\"CHOCDF\":6.449999809265137},\"brand\":\"T. Marzetti Company\",\"category\":\"Packaged foods\",\"categoryLabel\":\"food\",\"foodContentsLabel\":\"WATER; CANOLA AND SOYBEAN OIL; WHITE WINE (CONTAINS SULFITES); VINEGARS (CHAMPAGNE AND WHITE WINE); SUGAR; SALT; MUSTARD SEED; MONOSODIUM GLUTAMATE; GARLIC*; ONION*; SPICE; XANTHAN GUM; POTASSIUM SORBATE ADDED TO MAINTAIN FRESHNESS; MOLASSES; CALCIUM DISODIUM EDTA ADDED TO PROTECT FLAVOR; CHIVES*; TAMARIND.\",\"servingSizes\":[{\"uri\":\"http://www.edamam.com/ontologies/edamam.owl#Measure_gram\",\"label\":\"Gram\",\"quantity\":31.0},{\"uri\":\"http://www.edamam.com/ontologies/edamam.owl#Measure_tablespoon\",\"label\":\"Tablespoon\",\"quantity\":2.0}]},\"measures\":[{\"uri\":\"http://www.edamam.com/ontologies/edamam.owl#Measure_serving\",\"label\":\"Serving\",\"weight\":31.0},{\"uri\":\"http://www.edamam.com/ontologies/edamam.owl#Measure_gram\",\"label\":\"Gram\",\"weight\":1.0},{\"uri\":\"http://www.edamam.com/ontologies/edamam.owl#Measure_ounce\",\"label\":\"Ounce\",\"weight\":28.349523125},{\"uri\":\"http://www.edamam.com/ontologies/edamam.owl#Measure_pound\",\"label\":\"Pound\",\"weight\":453.59237},{\"uri\":\"http://www.edamam.com/ontologies/edamam.owl#Measure_kilogram\",\"label\":\"Kilogram\",\"weight\":1000.0},{\"uri\":\"http://www.edamam.com/ontologies/edamam.owl#Measure_tablespoon\",\"label\":\"Tablespoon\",\"weight\":15.5}]},{\"food\":{\"foodId\":\"food_bmu5dmkazwuvpaa5prh1daa8jxs0\",\"uri\":\"http://www.edamam.com/ontologies/edamam.owl#Food_FDCBR_621916\",\"label\":\"Champagne Dressing, Champagne\",\"knownAs\":\"CHAMPAGNE DRESSING, CHAMPAGNE\",\"nutrients\":{\"ENERC_KCAL\":500.0,\"PROCNT\":0.0,\"FAT\":50.0,\"CHOCDF\":6.670000076293945,\"FIBTG\":0.0},\"brand\":\"T. Marzetti Company\",\"category\":\"Packaged foods\",\"categoryLabel\":\"food\",\"foodContentsLabel\":\"SOYBEAN OIL; WHITE WINE (PRESERVED WITH SULFITES); WATER; WHITE WINE VINEGAR; SUGAR; SALT; SPICES (INCLUDING MUSTARD SEED); MONOSODIUM GLUTAMATE; GARLIC*; ONION*; XANTHAN GUM; MOLASSES; CALCIUM DISODIUM EDTA ADDED TO PROTECT FLAVOR; VINEGAR; CORN SYRUP; CARAMEL COLOR; CHIVES*; NATURAL FLAVOR; TAMARIND.\",\"image\":\"https://www.edamam.com/food-img/ab2/ab2459fc2a98cd35f68b848be2337ecb.jpg\",\"servingSizes\":[{\"uri\":\"http://www.edamam.com/ontologies/edamam.owl#Measure_gram\",\"label\":\"Gram\",\"quantity\":30.0},{\"uri\":\"http://www.edamam.com/ontologies/edamam.owl#Measure_tablespoon\",\"label\":\"Tablespoon\",\"quantity\":2.0}],\"servingsPerContainer\":12.0},\"measures\":[{\"uri\":\"http://www.edamam.com/ontologies/edamam.owl#Measure_serving\",\"label\":\"Serving\",\"weight\":30.0},{\"uri\":\"http://www.edamam.com/ontologies/edamam.owl#Measure_package\",\"label\":\"Package\",\"weight\":360.0},{\"uri\":\"http://www.edamam.com/ontologies/edamam.owl#Measure_gram\",\"label\":\"Gram\",\"weight\":1.0},{\"uri\":\"http://www.edamam.com/ontologies/edamam.owl#Measure_ounce\",\"label\":\"Ounce\",\"weight\":28.349523125},{\"uri\":\"http://www.edamam.com/ontologies/edamam.owl#Measure_pound\",\"label\":\"Pound\",\"weight\":453.59237},{\"uri\":\"http://www.edamam.com/ontologies/edamam.owl#Measure_kilogram\",\"label\":\"Kilogram\",\"weight\":1000.0},{\"uri\":\"http://www.edamam.com/ontologies/edamam.owl#Measure_tablespoon\",\"label\":\"Tablespoon\",\"weight\":15.0}]},{\"food\":{\"foodId\":\"food_alpl44taoyv11ra0lic1qa8xculi\",\"uri\":\"http://www.edamam.com/ontologies/edamam.owl#_generic_meal_buttercream_champagne\",\"label\":\"Champagne Buttercream\",\"knownAs\":\"Champagne Buttercream\",\"nutrients\":{\"ENERC_KCAL\":431.28471367026697,\"PROCNT\":0.7259713218654498,\"FAT\":21.529796803670717,\"CHOCDF\":59.60717142620606,\"FIBTG\":0.0},\"category\":\"Generic meals\",\"categoryLabel\":\"meal\",\"foodContentsLabel\":\"sugar; butter; shortening; vanilla; champagne; milk\"},\"measures\":[{\"uri\":\"http://www.edamam.com/ontologies/edamam.owl#Measure_unit\",\"label\":\"Whole\",\"weight\":179.81592549897243},{\"uri\":\"http://www.edamam.com/ontologies/edamam.owl#Measure_serving\",\"label\":\"Serving\",\"weight\":179.81592549897243},{\"uri\":\"http://www.edamam.com/ontologies/edamam.owl#Measure_gram\",\"label\":\"Gram\",\"weight\":1.0},{\"uri\":\"http://www.edamam.com/ontologies/edamam.owl#Measure_ounce\",\"label\":\"Ounce\",\"weight\":28.349523125},{\"uri\":\"http://www.edamam.com/ontologies/edamam.owl#Measure_pound\",\"label\":\"Pound\",\"weight\":453.59237},{\"uri\":\"http://www.edamam.com/ontologies/edamam.owl#Measure_kilogram\",\"label\":\"Kilogram\",\"weight\":1000.0}]},{\"food\":{\"foodId\":\"food_byap67hab6evc3a0f9w1oag3s0qf\",\"uri\":\"http://www.edamam.com/ontologies/edamam.owl#_generic_meal_champagne_sorbet\",\"label\":\"Champagne Sorbet\",\"knownAs\":\"Champagne Sorbet\",\"nutrients\":{\"ENERC_KCAL\":116.24649258757483,\"PROCNT\":0.2789223701785643,\"FAT\":0.6419934705047794,\"CHOCDF\":19.29974730365528,\"FIBTG\":0.18170385113373097},\"category\":\"Generic meals\",\"categoryLabel\":\"meal\",\"foodContentsLabel\":\"Sugar; Lemon juice; brandy; Champagne; Peach\"},\"measures\":[{\"uri\":\"http://www.edamam.com/ontologies/edamam.owl#Measure_unit\",\"label\":\"Whole\",\"weight\":267.85887739660626},{\"uri\":\"http://www.edamam.com/ontologies/edamam.owl#Measure_serving\",\"label\":\"Serving\",\"weight\":267.85887739660626},{\"uri\":\"http://www.edamam.com/ontologies/edamam.owl#Measure_gram\",\"label\":\"Gram\",\"weight\":1.0},{\"uri\":\"http://www.edamam.com/ontologies/edamam.owl#Measure_ounce\",\"label\":\"Ounce\",\"weight\":28.349523125},{\"uri\":\"http://www.edamam.com/ontologies/edamam.owl#Measure_pound\",\"label\":\"Pound\",\"weight\":453.59237},{\"uri\":\"http://www.edamam.com/ontologies/edamam.owl#Measure_kilogram\",\"label\":\"Kilogram\",\"weight\":1000.0},{\"uri\":\"http://www.edamam.com/ontologies/edamam.owl#Measure_cup\",\"label\":\"Cup\",\"weight\":240.0},{\"uri\":\"http://www.edamam.com/ontologies/edamam.owl#Measure_milliliter\",\"label\":\"Milliliter\",\"weight\":1.0}]},{\"food\":{\"foodId\":\"food_am5egz6aq3fpjlaf8xpkdbc2asis\",\"uri\":\"http://www.edamam.com/ontologies/edamam.owl#_generic_meal_champagne_truffle\",\"label\":\"Champagne Truffles\",\"knownAs\":\"Champagne Truffles\",\"nutrients\":{\"ENERC_KCAL\":402.26144434996013,\"PROCNT\":6.599124915923504,\"FAT\":24.523123777016046,\"CHOCDF\":48.4945229615048,\"FIBTG\":7.33218646238401},\"category\":\"Generic meals\",\"categoryLabel\":\"meal\",\"foodContentsLabel\":\"butter; cocoa; sweetened condensed milk; vanilla extract; champagne; powdered sugar\"},\"measures\":[{\"uri\":\"http://www.edamam.com/ontologies/edamam.owl#Measure_unit\",\"label\":\"Whole\",\"weight\":38.35602848586944},{\"uri\":\"http://www.edamam.com/ontologies/edamam.owl#Measure_serving\",\"label\":\"Serving\",\"weight\":38.35602848586944},{\"uri\":\"http://www.edamam.com/ontologies/edamam.owl#Measure_gram\",\"label\":\"Gram\",\"weight\":1.0},{\"uri\":\"http://www.edamam.com/ontologies/edamam.owl#Measure_ounce\",\"label\":\"Ounce\",\"weight\":28.349523125},{\"uri\":\"http://www.edamam.com/ontologies/edamam.owl#Measure_pound\",\"label\":\"Pound\",\"weight\":453.59237},{\"uri\":\"http://www.edamam.com/ontologies/edamam.owl#Measure_kilogram\",\"label\":\"Kilogram\",\"weight\":1000.0},{\"uri\":\"http://www.edamam.com/ontologies/edamam.owl#Measure_cup\",\"label\":\"Cup\",\"weight\":240.0}]},{\"food\":{\"foodId\":\"food_bcz8rhiajk1fuva0vkfmeakbouc0\",\"uri\":\"http://www.edamam.com/ontologies/edamam.owl#_generic_meal_champagne_vinaigrette\",\"label\":\"Champagne Vinaigrette\",\"knownAs\":\"Champagne Vinaigrette\",\"nutrients\":{\"ENERC_KCAL\":412.10989377242726,\"PROCNT\":0.31819358025166017,\"FAT\":42.78047681758653,\"CHOCDF\":5.869072973958464,\"FIBTG\":0.4220777203545052},\"category\":\"Generic meals\",\"categoryLabel\":\"meal\",\"foodContentsLabel\":\"champagne vinegar; olive oil; Dijon mustard; shallot; honey; Salt; pepper\"},\"measures\":[{\"uri\":\"http://www.edamam.com/ontologies/edamam.owl#Measure_unit\",\"label\":\"Whole\",\"weight\":94.01074559002959},{\"uri\":\"http://www.edamam.com/ontologies/edamam.owl#Measure_serving\",\"label\":\"Serving\",\"weight\":94.01074559002959},{\"uri\":\"http://www.edamam.com/ontologies/edamam.owl#Measure_gram\",\"label\":\"Gram\",\"weight\":1.0},{\"uri\":\"http://www.edamam.com/ontologies/edamam.owl#Measure_ounce\",\"label\":\"Ounce\",\"weight\":28.349523125},{\"uri\":\"http://www.edamam.com/ontologies/edamam.owl#Measure_pound\",\"label\":\"Pound\",\"weight\":453.59237},{\"uri\":\"http://www.edamam.com/ontologies/edamam.owl#Measure_kilogram\",\"label\":\"Kilogram\",\"weight\":1000.0},{\"uri\":\"http://www.edamam.com/ontologies/edamam.owl#Measure_tablespoon\",\"label\":\"Tablespoon\",\"weight\":20.72},{\"uri\":\"http://www.edamam.com/ontologies/edamam.owl#Measure_milliliter\",\"label\":\"Milliliter\",\"weight\":1.0}]},{\"food\":{\"foodId\":\"food_a79xmnya6togreaeukbroa0thhh0\",\"uri\":\"http://www.edamam.com/ontologies/edamam.owl#_generic_meal_champagne_chicken\",\"label\":\"Champagne Chicken\",\"knownAs\":\"Champagne Chicken\",\"nutrients\":{\"ENERC_KCAL\":167.34840891373292,\"PROCNT\":13.272227105177773,\"FAT\":10.145533403382984,\"CHOCDF\":3.6462988122105204,\"FIBTG\":0.26793421257996475},\"category\":\"Generic meals\",\"categoryLabel\":\"meal\",\"foodContentsLabel\":\"Flour; Salt; Pepper; Boneless, Skinless Chicken Breasts; Butter; Olive Oil; Champagne; Mushrooms; Heavy Whipping Cream\"},\"measures\":[{\"uri\":\"http://www.edamam.com/ontologies/edamam.owl#Measure_unit\",\"label\":\"Whole\",\"weight\":324.05341920914856},{\"uri\":\"http://www.edamam.com/ontologies/edamam.owl#Measure_serving\",\"label\":\"Serving\",\"weight\":324.05341920914856},{\"uri\":\"http://www.edamam.com/ontologies/edamam.owl#Measure_gram\",\"label\":\"Gram\",\"weight\":1.0},{\"uri\":\"http://www.edamam.com/ontologies/edamam.owl#Measure_ounce\",\"label\":\"Ounce\",\"weight\":28.349523125},{\"uri\":\"http://www.edamam.com/ontologies/edamam.owl#Measure_pound\",\"label\":\"Pound\",\"weight\":453.59237},{\"uri\":\"http://www.edamam.com/ontologies/edamam.owl#Measure_kilogram\",\"label\":\"Kilogram\",\"weight\":1000.0},{\"uri\":\"http://www.edamam.com/ontologies/edamam.owl#Measure_milliliter\",\"label\":\"Milliliter\",\"weight\":1.0}]},{\"food\":{\"foodId\":\"food_aoxaf73b3o0igebpj6wjga6kqhco\",\"uri\":\"http://www.edamam.com/ontologies/edamam.owl#_generic_meal_champagne_strawberry\",\"label\":\"Strawberry Champagne\",\"knownAs\":\"Strawberry Champagne\",\"nutrients\":{\"ENERC_KCAL\":78.92201906400439,\"PROCNT\":0.7521686779674064,\"FAT\":0.32547256697649896,\"CHOCDF\":9.746713858431747,\"FIBTG\":0.8455191537034977},\"category\":\"Generic meals\",\"categoryLabel\":\"meal\",\"foodContentsLabel\":\"Champagne; Strawberries\"},\"measures\":[{\"uri\":\"http://www.edamam.com/ontologies/edamam.owl#Measure_unit\",\"label\":\"Whole\",\"weight\":319.29197626510177},{\"uri\":\"http://www.edamam.com/ontologies/edamam.owl#Measure_serving\",\"label\":\"Serving\",\"weight\":319.29197626510177},{\"uri\":\"http://www.edamam.com/ontologies/edamam.owl#Measure_gram\",\"label\":\"Gram\",\"weight\":1.0},{\"uri\":\"http://www.edamam.com/ontologies/edamam.owl#Measure_ounce\",\"label\":\"Ounce\",\"weight\":28.349523125},{\"uri\":\"http://www.edamam.com/ontologies/edamam.owl#Measure_pound\",\"label\":\"Pound\",\"weight\":453.59237},{\"uri\":\"http://www.edamam.com/ontologies/edamam.owl#Measure_kilogram\",\"label\":\"Kilogram\",\"weight\":1000.0},{\"uri\":\"http://www.edamam.com/ontologies/edamam.owl#Measure_milliliter\",\"label\":\"Milliliter\",\"weight\":1.0}]},{\"food\":{\"foodId\":\"food_ax1n26waalpd9cbc64bjob7pw6hg\",\"uri\":\"http://www.edamam.com/ontologies/edamam.owl#_generic_meal_champagne_jelly\",\"label\":\"Champagne Jelly\",\"knownAs\":\"Champagne Jelly\",\"nutrients\":{\"ENERC_KCAL\":164.2092798454345,\"PROCNT\":2.1499145102914485,\"FAT\":0.07103504095823619,\"CHOCDF\":30.718062059218568,\"FIBTG\":0.20276386399643814},\"category\":\"Generic meals\",\"categoryLabel\":\"meal\",\"foodContentsLabel\":\"Champagne; gelatine; caster sugar; blueberries\"},\"measures\":[{\"uri\":\"http://www.edamam.com/ontologies/edamam.owl#Measure_unit\",\"label\":\"Whole\",\"weight\":211.40867455595745},{\"uri\":\"http://www.edamam.com/ontologies/edamam.owl#Measure_serving\",\"label\":\"Serving\",\"weight\":211.40867455595745},{\"uri\":\"http://www.edamam.com/ontologies/edamam.owl#Measure_gram\",\"label\":\"Gram\",\"weight\":1.0},{\"uri\":\"http://www.edamam.com/ontologies/edamam.owl#Measure_ounce\",\"label\":\"Ounce\",\"weight\":28.349523125},{\"uri\":\"http://www.edamam.com/ontologies/edamam.owl#Measure_pound\",\"label\":\"Pound\",\"weight\":453.59237},{\"uri\":\"http://www.edamam.com/ontologies/edamam.owl#Measure_kilogram\",\"label\":\"Kilogram\",\"weight\":1000.0},{\"uri\":\"http://www.edamam.com/ontologies/edamam.owl#Measure_tablespoon\",\"label\":\"Tablespoon\",\"weight\":20.72},{\"uri\":\"http://www.edamam.com/ontologies/edamam.owl#Measure_milliliter\",\"label\":\"Milliliter\",\"weight\":1.0}]},{\"food\":{\"foodId\":\"food_b4va8u0bb6pf74akh2rtcb3llna9\",\"uri\":\"http://www.edamam.com/ontologies/edamam.owl#_generic_meal_champagne_punch\",\"label\":\"Champagne Punch\",\"knownAs\":\"Champagne Punch\",\"nutrients\":{\"ENERC_KCAL\":72.41691319344669,\"PROCNT\":0.16241527464517921,\"FAT\":0.07313338539505483,\"CHOCDF\":8.220853523521688,\"FIBTG\":0.29264645911499065},\"category\":\"Generic meals\",\"categoryLabel\":\"meal\",\"foodContentsLabel\":\"champagne; simple syrup; orange juice; blueberries; raspberries; orange; ice\"},\"measures\":[{\"uri\":\"http://www.edamam.com/ontologies/edamam.owl#Measure_unit\",\"label\":\"Whole\",\"weight\":320.762392015937},{\"uri\":\"http://www.edamam.com/ontologies/edamam.owl#Measure_serving\",\"label\":\"Serving\",\"weight\":320.762392015937},{\"uri\":\"http://www.edamam.com/ontologies/edamam.owl#Measure_gram\",\"label\":\"Gram\",\"weight\":1.0},{\"uri\":\"http://www.edamam.com/ontologies/edamam.owl#Measure_ounce\",\"label\":\"Ounce\",\"weight\":28.349523125},{\"uri\":\"http://www.edamam.com/ontologies/edamam.owl#Measure_pound\",\"label\":\"Pound\",\"weight\":453.59237},{\"uri\":\"http://www.edamam.com/ontologies/edamam.owl#Measure_kilogram\",\"label\":\"Kilogram\",\"weight\":1000.0},{\"uri\":\"http://www.edamam.com/ontologies/edamam.owl#Measure_cup\",\"label\":\"Cup\",\"weight\":240.0},{\"uri\":\"http://www.edamam.com/ontologies/edamam.owl#Measure_milliliter\",\"label\":\"Milliliter\",\"weight\":1.0}]},{\"food\":{\"foodId\":\"food_a4j8wm8ayflf13b45t3c3bk9w4ek\",\"uri\":\"http://www.edamam.com/ontologies/edamam.owl#_generic_meal_champagne_sangria\",\"label\":\"Champagne Sangria\",\"knownAs\":\"Champagne Sangria\",\"nutrients\":{\"ENERC_KCAL\":84.45493140026794,\"PROCNT\":0.4085039277389953,\"FAT\":0.11418214877057638,\"CHOCDF\":13.833775891574787,\"FIBTG\":0.9172870824229086},\"category\":\"Generic meals\",\"categoryLabel\":\"meal\",\"foodContentsLabel\":\"mint leaves; Champagne; orange juice; lemon; lime; strawberries; ice; sugar\"},\"measures\":[{\"uri\":\"http://www.edamam.com/ontologies/edamam.owl#Measure_unit\",\"label\":\"Whole\",\"weight\":328.1769209565396},{\"uri\":\"http://www.edamam.com/ontologies/edamam.owl#Measure_serving\",\"label\":\"Serving\",\"weight\":328.1769209565396},{\"uri\":\"http://www.edamam.com/ontologies/edamam.owl#Measure_gram\",\"label\":\"Gram\",\"weight\":1.0},{\"uri\":\"http://www.edamam.com/ontologies/edamam.owl#Measure_ounce\",\"label\":\"Ounce\",\"weight\":28.349523125},{\"uri\":\"http://www.edamam.com/ontologies/edamam.owl#Measure_pound\",\"label\":\"Pound\",\"weight\":453.59237},{\"uri\":\"http://www.edamam.com/ontologies/edamam.owl#Measure_kilogram\",\"label\":\"Kilogram\",\"weight\":1000.0},{\"uri\":\"http://www.edamam.com/ontologies/edamam.owl#Measure_cup\",\"label\":\"Cup\",\"weight\":240.0},{\"uri\":\"http://www.edamam.com/ontologies/edamam.owl#Measure_milliliter\",\"label\":\"Milliliter\",\"weight\":1.0}]},{\"food\":{\"foodId\":\"food_bw7gtgxbnn7nbwa62ppwpar9ljc1\",\"uri\":\"http://www.edamam.com/ontologies/edamam.owl#Food_FDCBR_688782\",\"label\":\"Champagne Cotton Candy, Champagne\",\"knownAs\":\"CHAMPAGNE COTTON CANDY, CHAMPAGNE\",\"nutrients\":{\"ENERC_KCAL\":393.0,\"PROCNT\":0.0,\"FAT\":0.0,\"CHOCDF\":100.0},\"brand\":\"WONDERSHOP\",\"category\":\"Packaged foods\",\"categoryLabel\":\"food\",\"foodContentsLabel\":\"SUGAR; ARTIFICIAL & NATURAL FLAVOR.\",\"servingSizes\":[{\"uri\":\"http://www.edamam.com/ontologies/edamam.owl#Measure_gram\",\"label\":\"Gram\",\"quantity\":28.0}],\"servingsPerContainer\":1.0},\"measures\":[{\"uri\":\"http://www.edamam.com/ontologies/edamam.owl#Measure_serving\",\"label\":\"Serving\",\"weight\":28.0},{\"uri\":\"http://www.edamam.com/ontologies/edamam.owl#Measure_package\",\"label\":\"Package\",\"weight\":28.0},{\"uri\":\"http://www.edamam.com/ontologies/edamam.owl#Measure_gram\",\"label\":\"Gram\",\"weight\":1.0},{\"uri\":\"http://www.edamam.com/ontologies/edamam.owl#Measure_ounce\",\"label\":\"Ounce\",\"weight\":28.349523125},{\"uri\":\"http://www.edamam.com/ontologies/edamam.owl#Measure_pound\",\"label\":\"Pound\",\"weight\":453.59237},{\"uri\":\"http://www.edamam.com/ontologies/edamam.owl#Measure_kilogram\",\"label\":\"Kilogram\",\"weight\":1000.0}]},{\"food\":{\"foodId\":\"food_bu12urpbtuo9v6b4jpvk2a1fh4hh\",\"uri\":\"http://www.edamam.com/ontologies/edamam.owl#Food_FDCBR_820952\",\"label\":\"Champagne Simply Dressed Vinaigrette, Champagne\",\"knownAs\":\"CHAMPAGNE SIMPLY DRESSED VINAIGRETTE, CHAMPAGNE\",\"nutrients\":{\"ENERC_KCAL\":267.0,\"PROCNT\":0.0,\"FAT\":26.670000076293945,\"CHOCDF\":6.670000076293945},\"brand\":\"Simply Dressed\",\"category\":\"Packaged foods\",\"categoryLabel\":\"food\",\"foodContentsLabel\":\"FILTERED WATER; CANOLA OIL; CHAMPAGNE AND WHITE WINE VINEGARS; CANE SUGAR; EXTRA VIRGIN OLIVE OIL; SALT; NATURAL FLAVOR; GARLIC*; SPICE; XANTHAN GUM; BELL PEPPER*.\",\"image\":\"https://www.edamam.com/food-img/736/736a3e27a63d799d4073d2774075b509.png\",\"servingSizes\":[{\"uri\":\"http://www.edamam.com/ontologies/edamam.owl#Measure_tablespoon\",\"label\":\"Tablespoon\",\"quantity\":2.0},{\"uri\":\"http://www.edamam.com/ontologies/edamam.owl#Measure_gram\",\"label\":\"Gram\",\"quantity\":30.0}]},\"measures\":[{\"uri\":\"http://www.edamam.com/ontologies/edamam.owl#Measure_serving\",\"label\":\"Serving\",\"weight\":30.0},{\"uri\":\"http://www.edamam.com/ontologies/edamam.owl#Measure_gram\",\"label\":\"Gram\",\"weight\":1.0},{\"uri\":\"http://www.edamam.com/ontologies/edamam.owl#Measure_ounce\",\"label\":\"Ounce\",\"weight\":28.349523125},{\"uri\":\"http://www.edamam.com/ontologies/edamam.owl#Measure_pound\",\"label\":\"Pound\",\"weight\":453.59237},{\"uri\":\"http://www.edamam.com/ontologies/edamam.owl#Measure_kilogram\",\"label\":\"Kilogram\",\"weight\":1000.0},{\"uri\":\"http://www.edamam.com/ontologies/edamam.owl#Measure_tablespoon\",\"label\":\"Tablespoon\",\"weight\":15.0}]},{\"food\":{\"foodId\":\"food_bba727vaimolf0b8stgoibx7ujei\",\"uri\":\"http://www.edamam.com/ontologies/edamam.owl#_generic_meal_cake_champagne\",\"label\":\"Champagne Cake\",\"knownAs\":\"Champagne Cake\",\"nutrients\":{\"ENERC_KCAL\":357.0338641448535,\"PROCNT\":3.5950055146347077,\"FAT\":18.113741283632606,\"CHOCDF\":45.05864329865586,\"FIBTG\":0.715559613892597},\"category\":\"Generic meals\",\"categoryLabel\":\"meal\",\"foodContentsLabel\":\"flour; baking powder; salt; butter; sugar; eggs; vanilla extract; champagne; powdered sugar\"},\"measures\":[{\"uri\":\"http://www.edamam.com/ontologies/edamam.owl#Measure_unit\",\"label\":\"Whole\",\"weight\":123.77908827010602},{\"uri\":\"http://www.edamam.com/ontologies/edamam.owl#Measure_serving\",\"label\":\"Serving\",\"weight\":123.77908827010602},{\"uri\":\"http://www.edamam.com/ontologies/edamam.owl#Measure_gram\",\"label\":\"Gram\",\"weight\":1.0},{\"uri\":\"http://www.edamam.com/ontologies/edamam.owl#Measure_ounce\",\"label\":\"Ounce\",\"weight\":28.349523125},{\"uri\":\"http://www.edamam.com/ontologies/edamam.owl#Measure_pound\",\"label\":\"Pound\",\"weight\":453.59237},{\"uri\":\"http://www.edamam.com/ontologies/edamam.owl#Measure_kilogram\",\"label\":\"Kilogram\",\"weight\":1000.0}]},{\"food\":{\"foodId\":\"food_a6mj2obbqy38soat01vrxaqnvvet\",\"uri\":\"http://www.edamam.com/ontologies/edamam.owl#_generic_meal_champagne_cupcake\",\"label\":\"Champagne Cupcakes\",\"knownAs\":\"Champagne Cupcakes\",\"nutrients\":{\"ENERC_KCAL\":369.33191480195717,\"PROCNT\":2.62115566366166,\"FAT\":18.515341545630328,\"CHOCDF\":46.93736434580775,\"FIBTG\":0.4292999281242148},\"category\":\"Generic meals\",\"categoryLabel\":\"meal\",\"foodContentsLabel\":\"butter; sugar; eggs; champagne; plain yogurt; flour; baking powder; salt; powdered sugar\"},\"measures\":[{\"uri\":\"http://www.edamam.com/ontologies/edamam.owl#Measure_unit\",\"label\":\"Whole\",\"weight\":122.55279115912714},{\"uri\":\"http://www.edamam.com/ontologies/edamam.owl#Measure_serving\",\"label\":\"Serving\",\"weight\":122.55279115912714},{\"uri\":\"http://www.edamam.com/ontologies/edamam.owl#Measure_cupcake\",\"label\":\"Cupcake\",\"weight\":157.5986171},{\"uri\":\"http://www.edamam.com/ontologies/edamam.owl#Measure_gram\",\"label\":\"Gram\",\"weight\":1.0},{\"uri\":\"http://www.edamam.com/ontologies/edamam.owl#Measure_ounce\",\"label\":\"Ounce\",\"weight\":28.349523125},{\"uri\":\"http://www.edamam.com/ontologies/edamam.owl#Measure_pound\",\"label\":\"Pound\",\"weight\":453.59237},{\"uri\":\"http://www.edamam.com/ontologies/edamam.owl#Measure_kilogram\",\"label\":\"Kilogram\",\"weight\":1000.0}]},{\"food\":{\"foodId\":\"food_aj3tbbpbl068bhagn76uubtzyzyv\",\"uri\":\"http://www.edamam.com/ontologies/edamam.owl#Food_FDCBR_461724\",\"label\":\"Champagne Vinegar\",\"knownAs\":\"CHAMPAGNE VINEGAR\",\"nutrients\":{\"ENERC_KCAL\":33.0,\"PROCNT\":0.0,\"FAT\":0.0,\"CHOCDF\":6.670000076293945,\"FIBTG\":0.0},\"brand\":\"O TARRAGON\",\"category\":\"Packaged foods\",\"categoryLabel\":\"food\",\"foodContentsLabel\":\"CALIFORNIA CHAMPAGNE WINE VINEGAR; FRESH TARRAGON.\",\"servingSizes\":[{\"uri\":\"http://www.edamam.com/ontologies/edamam.owl#Measure_tablespoon\",\"label\":\"Tablespoon\",\"quantity\":1.0},{\"uri\":\"http://www.edamam.com/ontologies/edamam.owl#Measure_milliliter\",\"label\":\"Milliliter\",\"quantity\":15.0}]},\"measures\":[{\"uri\":\"http://www.edamam.com/ontologies/edamam.owl#Measure_serving\",\"label\":\"Serving\",\"weight\":14.786764781},{\"uri\":\"http://www.edamam.com/ontologies/edamam.owl#Measure_tablespoon\",\"label\":\"Tablespoon\",\"weight\":14.786764781},{\"uri\":\"http://www.edamam.com/ontologies/edamam.owl#Measure_gram\",\"label\":\"Gram\",\"weight\":1.0},{\"uri\":\"http://www.edamam.com/ontologies/edamam.owl#Measure_ounce\",\"label\":\"Ounce\",\"weight\":28.349523125},{\"uri\":\"http://www.edamam.com/ontologies/edamam.owl#Measure_pound\",\"label\":\"Pound\",\"weight\":453.59237},{\"uri\":\"http://www.edamam.com/ontologies/edamam.owl#Measure_kilogram\",\"label\":\"Kilogram\",\"weight\":1000.0},{\"uri\":\"http://www.edamam.com/ontologies/edamam.owl#Measure_milliliter\",\"label\":\"Milliliter\",\"weight\":0.9857843187333334}]}],\"_links\":{\"next\":{\"title\":\"Next page\",\"href\":\"https://api.edamam.com/api/food-database/v2/parser?session=40&app_key=69d004c3e3c5b967261e625baea627fc&app_id=85b409cf&ingr=champagne\"}}}\n"
          ]
        }
      ],
      "source": [
        "import requests\n",
        "url = \"https://edamam-food-and-grocery-database.p.rapidapi.com/api/food-database/v2/parser\"\n",
        "querystring = {\"ingr\":\"champagne\"}\n",
        "headers = {\n",
        "    'x-rapidapi-key': \"90beeb577cmshe84bbe9a0620c2fp14a027jsnbb9f4fcf9508\",\n",
        "    'x-rapidapi-host': \"edamam-food-and-grocery-database.p.rapidapi.com\"\n",
        "    }\n",
        "response = requests.request(\"GET\", url, headers=headers, params=querystring)\n",
        "text = response.text\n",
        "print(text)\n"
      ]
    },
    {
      "cell_type": "code",
      "execution_count": 13,
      "id": "c342ebea",
      "metadata": {
        "colab": {
          "base_uri": "https://localhost:8080/"
        },
        "id": "c342ebea",
        "outputId": "2a3626ab-2e09-4565-a39a-b00c971a2f2a"
      },
      "outputs": [
        {
          "output_type": "stream",
          "name": "stdout",
          "text": [
            "<class 'str'>\n"
          ]
        }
      ],
      "source": [
        "print(type(text))"
      ]
    },
    {
      "cell_type": "code",
      "execution_count": 14,
      "id": "6df5b157",
      "metadata": {
        "colab": {
          "base_uri": "https://localhost:8080/"
        },
        "id": "6df5b157",
        "outputId": "b8353e07-1b53-4a1d-d5ff-5c708b8cfba1"
      },
      "outputs": [
        {
          "output_type": "stream",
          "name": "stdout",
          "text": [
            "<class 'dict'>\n"
          ]
        }
      ],
      "source": [
        "import json\n",
        "\n",
        "data = json.loads(text)\n",
        "print(type(data))\n"
      ]
    },
    {
      "cell_type": "code",
      "execution_count": 15,
      "id": "9573a737",
      "metadata": {
        "id": "9573a737"
      },
      "outputs": [],
      "source": [
        "hints = data['hints']"
      ]
    },
    {
      "cell_type": "code",
      "execution_count": 16,
      "id": "05bc51f1",
      "metadata": {
        "colab": {
          "base_uri": "https://localhost:8080/"
        },
        "id": "05bc51f1",
        "outputId": "97428691-50b8-4618-9f43-5a3805825ade"
      },
      "outputs": [
        {
          "output_type": "execute_result",
          "data": {
            "text/plain": [
              "{'food': {'foodId': 'food_a656mk2a5dmqb2adiamu6beihduu',\n",
              "  'uri': 'http://www.edamam.com/ontologies/edamam.owl#Food_table_white_wine',\n",
              "  'label': 'Champagne',\n",
              "  'knownAs': 'dry white wine',\n",
              "  'nutrients': {'ENERC_KCAL': 82.0,\n",
              "   'PROCNT': 0.07,\n",
              "   'FAT': 0.0,\n",
              "   'CHOCDF': 2.6,\n",
              "   'FIBTG': 0.0},\n",
              "  'category': 'Generic foods',\n",
              "  'categoryLabel': 'food',\n",
              "  'image': 'https://www.edamam.com/food-img/a71/a718cf3c52add522128929f1f324d2ab.jpg'},\n",
              " 'measures': [{'uri': 'http://www.edamam.com/ontologies/edamam.owl#Measure_serving',\n",
              "   'label': 'Serving',\n",
              "   'weight': 147.0},\n",
              "  {'uri': 'http://www.edamam.com/ontologies/edamam.owl#Measure_unit',\n",
              "   'label': 'Whole',\n",
              "   'weight': 750.0},\n",
              "  {'uri': 'http://www.edamam.com/ontologies/edamam.owl#Measure_splash',\n",
              "   'label': 'Splash',\n",
              "   'weight': 84.0},\n",
              "  {'uri': 'http://www.edamam.com/ontologies/edamam.owl#Measure_gram',\n",
              "   'label': 'Gram',\n",
              "   'weight': 1.0},\n",
              "  {'uri': 'http://www.edamam.com/ontologies/edamam.owl#Measure_ounce',\n",
              "   'label': 'Ounce',\n",
              "   'weight': 28.349523125},\n",
              "  {'uri': 'http://www.edamam.com/ontologies/edamam.owl#Measure_pound',\n",
              "   'label': 'Pound',\n",
              "   'weight': 453.59237},\n",
              "  {'uri': 'http://www.edamam.com/ontologies/edamam.owl#Measure_kilogram',\n",
              "   'label': 'Kilogram',\n",
              "   'weight': 1000.0},\n",
              "  {'uri': 'http://www.edamam.com/ontologies/edamam.owl#Measure_cup',\n",
              "   'label': 'Cup',\n",
              "   'weight': 235.2},\n",
              "  {'uri': 'http://www.edamam.com/ontologies/edamam.owl#Measure_bottle',\n",
              "   'label': 'Bottle',\n",
              "   'weight': 745.599200575638},\n",
              "  {'uri': 'http://www.edamam.com/ontologies/edamam.owl#Measure_fluid_ounce',\n",
              "   'label': 'Fluid ounce',\n",
              "   'weight': 29.4}]}"
            ]
          },
          "metadata": {},
          "execution_count": 16
        }
      ],
      "source": [
        "hints[0]"
      ]
    },
    {
      "cell_type": "code",
      "execution_count": 17,
      "id": "36835ba1",
      "metadata": {
        "id": "36835ba1"
      },
      "outputs": [],
      "source": [
        "produit = hints[0]\n",
        "food = produit ['food']"
      ]
    },
    {
      "cell_type": "code",
      "execution_count": 18,
      "id": "030a0953",
      "metadata": {
        "id": "030a0953"
      },
      "outputs": [],
      "source": [
        "df = pd.DataFrame()"
      ]
    },
    {
      "cell_type": "code",
      "execution_count": 19,
      "id": "0440e686",
      "metadata": {
        "colab": {
          "base_uri": "https://localhost:8080/",
          "height": 467
        },
        "id": "0440e686",
        "outputId": "2a68e2b3-bee4-4a1d-f183-f3078d84b6de"
      },
      "outputs": [
        {
          "output_type": "execute_result",
          "data": {
            "text/plain": [
              "                              foodId                             label  \\\n",
              "0  food_a656mk2a5dmqb2adiamu6beihduu                         Champagne   \n",
              "1  food_b753ithamdb8psbt0w2k9aquo06c  Champagne Vinaigrette, Champagne   \n",
              "2  food_b3dyababjo54xobm6r8jzbghjgqe  Champagne Vinaigrette, Champagne   \n",
              "3  food_a9e0ghsamvoc45bwa2ybsa3gken9  Champagne Vinaigrette, Champagne   \n",
              "4  food_an4jjueaucpus2a3u1ni8auhe7q9  Champagne Vinaigrette, Champagne   \n",
              "5  food_bmu5dmkazwuvpaa5prh1daa8jxs0     Champagne Dressing, Champagne   \n",
              "6  food_alpl44taoyv11ra0lic1qa8xculi             Champagne Buttercream   \n",
              "7  food_byap67hab6evc3a0f9w1oag3s0qf                  Champagne Sorbet   \n",
              "8  food_am5egz6aq3fpjlaf8xpkdbc2asis                Champagne Truffles   \n",
              "9  food_bcz8rhiajk1fuva0vkfmeakbouc0             Champagne Vinaigrette   \n",
              "\n",
              "         category                                  foodContentsLabel  \\\n",
              "0   Generic foods                                                NaN   \n",
              "1  Packaged foods  OLIVE OIL; BALSAMIC VINEGAR; CHAMPAGNE VINEGAR...   \n",
              "2  Packaged foods  INGREDIENTS: WATER; CANOLA OIL; CHAMPAGNE VINE...   \n",
              "3  Packaged foods  CANOLA AND SOYBEAN OIL; WHITE WINE (CONTAINS S...   \n",
              "4  Packaged foods  WATER; CANOLA AND SOYBEAN OIL; WHITE WINE (CON...   \n",
              "5  Packaged foods  SOYBEAN OIL; WHITE WINE (PRESERVED WITH SULFIT...   \n",
              "6   Generic meals  sugar; butter; shortening; vanilla; champagne;...   \n",
              "7   Generic meals       Sugar; Lemon juice; brandy; Champagne; Peach   \n",
              "8   Generic meals  butter; cocoa; sweetened condensed milk; vanil...   \n",
              "9   Generic meals  champagne vinegar; olive oil; Dijon mustard; s...   \n",
              "\n",
              "                                               image  \n",
              "0  https://www.edamam.com/food-img/a71/a718cf3c52...  \n",
              "1                                                NaN  \n",
              "2  https://www.edamam.com/food-img/d88/d88b64d973...  \n",
              "3                                                NaN  \n",
              "4                                                NaN  \n",
              "5  https://www.edamam.com/food-img/ab2/ab2459fc2a...  \n",
              "6                                                NaN  \n",
              "7                                                NaN  \n",
              "8                                                NaN  \n",
              "9                                                NaN  "
            ],
            "text/html": [
              "\n",
              "  <div id=\"df-0ad7faa9-f788-47e5-84ba-d77649b0c787\" class=\"colab-df-container\">\n",
              "    <div>\n",
              "<style scoped>\n",
              "    .dataframe tbody tr th:only-of-type {\n",
              "        vertical-align: middle;\n",
              "    }\n",
              "\n",
              "    .dataframe tbody tr th {\n",
              "        vertical-align: top;\n",
              "    }\n",
              "\n",
              "    .dataframe thead th {\n",
              "        text-align: right;\n",
              "    }\n",
              "</style>\n",
              "<table border=\"1\" class=\"dataframe\">\n",
              "  <thead>\n",
              "    <tr style=\"text-align: right;\">\n",
              "      <th></th>\n",
              "      <th>foodId</th>\n",
              "      <th>label</th>\n",
              "      <th>category</th>\n",
              "      <th>foodContentsLabel</th>\n",
              "      <th>image</th>\n",
              "    </tr>\n",
              "  </thead>\n",
              "  <tbody>\n",
              "    <tr>\n",
              "      <th>0</th>\n",
              "      <td>food_a656mk2a5dmqb2adiamu6beihduu</td>\n",
              "      <td>Champagne</td>\n",
              "      <td>Generic foods</td>\n",
              "      <td>NaN</td>\n",
              "      <td>https://www.edamam.com/food-img/a71/a718cf3c52...</td>\n",
              "    </tr>\n",
              "    <tr>\n",
              "      <th>1</th>\n",
              "      <td>food_b753ithamdb8psbt0w2k9aquo06c</td>\n",
              "      <td>Champagne Vinaigrette, Champagne</td>\n",
              "      <td>Packaged foods</td>\n",
              "      <td>OLIVE OIL; BALSAMIC VINEGAR; CHAMPAGNE VINEGAR...</td>\n",
              "      <td>NaN</td>\n",
              "    </tr>\n",
              "    <tr>\n",
              "      <th>2</th>\n",
              "      <td>food_b3dyababjo54xobm6r8jzbghjgqe</td>\n",
              "      <td>Champagne Vinaigrette, Champagne</td>\n",
              "      <td>Packaged foods</td>\n",
              "      <td>INGREDIENTS: WATER; CANOLA OIL; CHAMPAGNE VINE...</td>\n",
              "      <td>https://www.edamam.com/food-img/d88/d88b64d973...</td>\n",
              "    </tr>\n",
              "    <tr>\n",
              "      <th>3</th>\n",
              "      <td>food_a9e0ghsamvoc45bwa2ybsa3gken9</td>\n",
              "      <td>Champagne Vinaigrette, Champagne</td>\n",
              "      <td>Packaged foods</td>\n",
              "      <td>CANOLA AND SOYBEAN OIL; WHITE WINE (CONTAINS S...</td>\n",
              "      <td>NaN</td>\n",
              "    </tr>\n",
              "    <tr>\n",
              "      <th>4</th>\n",
              "      <td>food_an4jjueaucpus2a3u1ni8auhe7q9</td>\n",
              "      <td>Champagne Vinaigrette, Champagne</td>\n",
              "      <td>Packaged foods</td>\n",
              "      <td>WATER; CANOLA AND SOYBEAN OIL; WHITE WINE (CON...</td>\n",
              "      <td>NaN</td>\n",
              "    </tr>\n",
              "    <tr>\n",
              "      <th>5</th>\n",
              "      <td>food_bmu5dmkazwuvpaa5prh1daa8jxs0</td>\n",
              "      <td>Champagne Dressing, Champagne</td>\n",
              "      <td>Packaged foods</td>\n",
              "      <td>SOYBEAN OIL; WHITE WINE (PRESERVED WITH SULFIT...</td>\n",
              "      <td>https://www.edamam.com/food-img/ab2/ab2459fc2a...</td>\n",
              "    </tr>\n",
              "    <tr>\n",
              "      <th>6</th>\n",
              "      <td>food_alpl44taoyv11ra0lic1qa8xculi</td>\n",
              "      <td>Champagne Buttercream</td>\n",
              "      <td>Generic meals</td>\n",
              "      <td>sugar; butter; shortening; vanilla; champagne;...</td>\n",
              "      <td>NaN</td>\n",
              "    </tr>\n",
              "    <tr>\n",
              "      <th>7</th>\n",
              "      <td>food_byap67hab6evc3a0f9w1oag3s0qf</td>\n",
              "      <td>Champagne Sorbet</td>\n",
              "      <td>Generic meals</td>\n",
              "      <td>Sugar; Lemon juice; brandy; Champagne; Peach</td>\n",
              "      <td>NaN</td>\n",
              "    </tr>\n",
              "    <tr>\n",
              "      <th>8</th>\n",
              "      <td>food_am5egz6aq3fpjlaf8xpkdbc2asis</td>\n",
              "      <td>Champagne Truffles</td>\n",
              "      <td>Generic meals</td>\n",
              "      <td>butter; cocoa; sweetened condensed milk; vanil...</td>\n",
              "      <td>NaN</td>\n",
              "    </tr>\n",
              "    <tr>\n",
              "      <th>9</th>\n",
              "      <td>food_bcz8rhiajk1fuva0vkfmeakbouc0</td>\n",
              "      <td>Champagne Vinaigrette</td>\n",
              "      <td>Generic meals</td>\n",
              "      <td>champagne vinegar; olive oil; Dijon mustard; s...</td>\n",
              "      <td>NaN</td>\n",
              "    </tr>\n",
              "  </tbody>\n",
              "</table>\n",
              "</div>\n",
              "    <div class=\"colab-df-buttons\">\n",
              "\n",
              "  <div class=\"colab-df-container\">\n",
              "    <button class=\"colab-df-convert\" onclick=\"convertToInteractive('df-0ad7faa9-f788-47e5-84ba-d77649b0c787')\"\n",
              "            title=\"Convert this dataframe to an interactive table.\"\n",
              "            style=\"display:none;\">\n",
              "\n",
              "  <svg xmlns=\"http://www.w3.org/2000/svg\" height=\"24px\" viewBox=\"0 -960 960 960\">\n",
              "    <path d=\"M120-120v-720h720v720H120Zm60-500h600v-160H180v160Zm220 220h160v-160H400v160Zm0 220h160v-160H400v160ZM180-400h160v-160H180v160Zm440 0h160v-160H620v160ZM180-180h160v-160H180v160Zm440 0h160v-160H620v160Z\"/>\n",
              "  </svg>\n",
              "    </button>\n",
              "\n",
              "  <style>\n",
              "    .colab-df-container {\n",
              "      display:flex;\n",
              "      gap: 12px;\n",
              "    }\n",
              "\n",
              "    .colab-df-convert {\n",
              "      background-color: #E8F0FE;\n",
              "      border: none;\n",
              "      border-radius: 50%;\n",
              "      cursor: pointer;\n",
              "      display: none;\n",
              "      fill: #1967D2;\n",
              "      height: 32px;\n",
              "      padding: 0 0 0 0;\n",
              "      width: 32px;\n",
              "    }\n",
              "\n",
              "    .colab-df-convert:hover {\n",
              "      background-color: #E2EBFA;\n",
              "      box-shadow: 0px 1px 2px rgba(60, 64, 67, 0.3), 0px 1px 3px 1px rgba(60, 64, 67, 0.15);\n",
              "      fill: #174EA6;\n",
              "    }\n",
              "\n",
              "    .colab-df-buttons div {\n",
              "      margin-bottom: 4px;\n",
              "    }\n",
              "\n",
              "    [theme=dark] .colab-df-convert {\n",
              "      background-color: #3B4455;\n",
              "      fill: #D2E3FC;\n",
              "    }\n",
              "\n",
              "    [theme=dark] .colab-df-convert:hover {\n",
              "      background-color: #434B5C;\n",
              "      box-shadow: 0px 1px 3px 1px rgba(0, 0, 0, 0.15);\n",
              "      filter: drop-shadow(0px 1px 2px rgba(0, 0, 0, 0.3));\n",
              "      fill: #FFFFFF;\n",
              "    }\n",
              "  </style>\n",
              "\n",
              "    <script>\n",
              "      const buttonEl =\n",
              "        document.querySelector('#df-0ad7faa9-f788-47e5-84ba-d77649b0c787 button.colab-df-convert');\n",
              "      buttonEl.style.display =\n",
              "        google.colab.kernel.accessAllowed ? 'block' : 'none';\n",
              "\n",
              "      async function convertToInteractive(key) {\n",
              "        const element = document.querySelector('#df-0ad7faa9-f788-47e5-84ba-d77649b0c787');\n",
              "        const dataTable =\n",
              "          await google.colab.kernel.invokeFunction('convertToInteractive',\n",
              "                                                    [key], {});\n",
              "        if (!dataTable) return;\n",
              "\n",
              "        const docLinkHtml = 'Like what you see? Visit the ' +\n",
              "          '<a target=\"_blank\" href=https://colab.research.google.com/notebooks/data_table.ipynb>data table notebook</a>'\n",
              "          + ' to learn more about interactive tables.';\n",
              "        element.innerHTML = '';\n",
              "        dataTable['output_type'] = 'display_data';\n",
              "        await google.colab.output.renderOutput(dataTable, element);\n",
              "        const docLink = document.createElement('div');\n",
              "        docLink.innerHTML = docLinkHtml;\n",
              "        element.appendChild(docLink);\n",
              "      }\n",
              "    </script>\n",
              "  </div>\n",
              "\n",
              "\n",
              "<div id=\"df-6179c823-6eb7-4999-9347-712ed7f8e590\">\n",
              "  <button class=\"colab-df-quickchart\" onclick=\"quickchart('df-6179c823-6eb7-4999-9347-712ed7f8e590')\"\n",
              "            title=\"Suggest charts.\"\n",
              "            style=\"display:none;\">\n",
              "\n",
              "<svg xmlns=\"http://www.w3.org/2000/svg\" height=\"24px\"viewBox=\"0 0 24 24\"\n",
              "     width=\"24px\">\n",
              "    <g>\n",
              "        <path d=\"M19 3H5c-1.1 0-2 .9-2 2v14c0 1.1.9 2 2 2h14c1.1 0 2-.9 2-2V5c0-1.1-.9-2-2-2zM9 17H7v-7h2v7zm4 0h-2V7h2v10zm4 0h-2v-4h2v4z\"/>\n",
              "    </g>\n",
              "</svg>\n",
              "  </button>\n",
              "\n",
              "<style>\n",
              "  .colab-df-quickchart {\n",
              "      --bg-color: #E8F0FE;\n",
              "      --fill-color: #1967D2;\n",
              "      --hover-bg-color: #E2EBFA;\n",
              "      --hover-fill-color: #174EA6;\n",
              "      --disabled-fill-color: #AAA;\n",
              "      --disabled-bg-color: #DDD;\n",
              "  }\n",
              "\n",
              "  [theme=dark] .colab-df-quickchart {\n",
              "      --bg-color: #3B4455;\n",
              "      --fill-color: #D2E3FC;\n",
              "      --hover-bg-color: #434B5C;\n",
              "      --hover-fill-color: #FFFFFF;\n",
              "      --disabled-bg-color: #3B4455;\n",
              "      --disabled-fill-color: #666;\n",
              "  }\n",
              "\n",
              "  .colab-df-quickchart {\n",
              "    background-color: var(--bg-color);\n",
              "    border: none;\n",
              "    border-radius: 50%;\n",
              "    cursor: pointer;\n",
              "    display: none;\n",
              "    fill: var(--fill-color);\n",
              "    height: 32px;\n",
              "    padding: 0;\n",
              "    width: 32px;\n",
              "  }\n",
              "\n",
              "  .colab-df-quickchart:hover {\n",
              "    background-color: var(--hover-bg-color);\n",
              "    box-shadow: 0 1px 2px rgba(60, 64, 67, 0.3), 0 1px 3px 1px rgba(60, 64, 67, 0.15);\n",
              "    fill: var(--button-hover-fill-color);\n",
              "  }\n",
              "\n",
              "  .colab-df-quickchart-complete:disabled,\n",
              "  .colab-df-quickchart-complete:disabled:hover {\n",
              "    background-color: var(--disabled-bg-color);\n",
              "    fill: var(--disabled-fill-color);\n",
              "    box-shadow: none;\n",
              "  }\n",
              "\n",
              "  .colab-df-spinner {\n",
              "    border: 2px solid var(--fill-color);\n",
              "    border-color: transparent;\n",
              "    border-bottom-color: var(--fill-color);\n",
              "    animation:\n",
              "      spin 1s steps(1) infinite;\n",
              "  }\n",
              "\n",
              "  @keyframes spin {\n",
              "    0% {\n",
              "      border-color: transparent;\n",
              "      border-bottom-color: var(--fill-color);\n",
              "      border-left-color: var(--fill-color);\n",
              "    }\n",
              "    20% {\n",
              "      border-color: transparent;\n",
              "      border-left-color: var(--fill-color);\n",
              "      border-top-color: var(--fill-color);\n",
              "    }\n",
              "    30% {\n",
              "      border-color: transparent;\n",
              "      border-left-color: var(--fill-color);\n",
              "      border-top-color: var(--fill-color);\n",
              "      border-right-color: var(--fill-color);\n",
              "    }\n",
              "    40% {\n",
              "      border-color: transparent;\n",
              "      border-right-color: var(--fill-color);\n",
              "      border-top-color: var(--fill-color);\n",
              "    }\n",
              "    60% {\n",
              "      border-color: transparent;\n",
              "      border-right-color: var(--fill-color);\n",
              "    }\n",
              "    80% {\n",
              "      border-color: transparent;\n",
              "      border-right-color: var(--fill-color);\n",
              "      border-bottom-color: var(--fill-color);\n",
              "    }\n",
              "    90% {\n",
              "      border-color: transparent;\n",
              "      border-bottom-color: var(--fill-color);\n",
              "    }\n",
              "  }\n",
              "</style>\n",
              "\n",
              "  <script>\n",
              "    async function quickchart(key) {\n",
              "      const quickchartButtonEl =\n",
              "        document.querySelector('#' + key + ' button');\n",
              "      quickchartButtonEl.disabled = true;  // To prevent multiple clicks.\n",
              "      quickchartButtonEl.classList.add('colab-df-spinner');\n",
              "      try {\n",
              "        const charts = await google.colab.kernel.invokeFunction(\n",
              "            'suggestCharts', [key], {});\n",
              "      } catch (error) {\n",
              "        console.error('Error during call to suggestCharts:', error);\n",
              "      }\n",
              "      quickchartButtonEl.classList.remove('colab-df-spinner');\n",
              "      quickchartButtonEl.classList.add('colab-df-quickchart-complete');\n",
              "    }\n",
              "    (() => {\n",
              "      let quickchartButtonEl =\n",
              "        document.querySelector('#df-6179c823-6eb7-4999-9347-712ed7f8e590 button');\n",
              "      quickchartButtonEl.style.display =\n",
              "        google.colab.kernel.accessAllowed ? 'block' : 'none';\n",
              "    })();\n",
              "  </script>\n",
              "</div>\n",
              "    </div>\n",
              "  </div>\n"
            ]
          },
          "metadata": {},
          "execution_count": 19
        }
      ],
      "source": [
        "for i in range(10):\n",
        "    produit = hints[i]\n",
        "    food = produit['food']\n",
        "    df.loc[i, 'foodId'] = food ['foodId']\n",
        "    df.loc[i, 'label'] = food ['label']\n",
        "    df.loc[i, 'category'] = food ['category']\n",
        "    if \"foodContentsLabel\" in food :\n",
        "        df.loc[i, 'foodContentsLabel'] = food ['foodContentsLabel']\n",
        "    else :\n",
        "        df.loc[i, 'foodContentsLabel'] = np.nan\n",
        "    if \"image\" in food :\n",
        "        df.loc[i, 'image'] = food ['image']\n",
        "    else :\n",
        "        df.loc[i, 'image'] = np.nan\n",
        "\n",
        "df"
      ]
    },
    {
      "cell_type": "code",
      "execution_count": 20,
      "id": "9933aa57",
      "metadata": {
        "colab": {
          "base_uri": "https://localhost:8080/"
        },
        "id": "9933aa57",
        "outputId": "5ee35529-9bba-4e86-f5e1-0e8146365bcc"
      },
      "outputs": [
        {
          "output_type": "stream",
          "name": "stdout",
          "text": [
            "Mounted at /content/drive\n"
          ]
        }
      ],
      "source": [
        "from google.colab import drive\n",
        "drive.mount('/content/drive', force_remount=True)\n",
        "path = '/content/drive/MyDrive/Colab Notebooks/OC/Projet 6/Regaud_Agnès_4_fichier_csv_extraction_api_092023.csv'\n",
        "df.to_csv(path, index=False)\n"
      ]
    }
  ],
  "metadata": {
    "kernelspec": {
      "display_name": "Python 3",
      "name": "python3"
    },
    "language_info": {
      "codemirror_mode": {
        "name": "ipython",
        "version": 3
      },
      "file_extension": ".py",
      "mimetype": "text/x-python",
      "name": "python",
      "nbconvert_exporter": "python",
      "pygments_lexer": "ipython3",
      "version": "3.9.13"
    },
    "colab": {
      "provenance": [],
      "machine_shape": "hm",
      "gpuType": "V100"
    },
    "accelerator": "GPU"
  },
  "nbformat": 4,
  "nbformat_minor": 5
}